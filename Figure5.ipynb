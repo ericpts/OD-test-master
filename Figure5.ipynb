{
 "cells": [
  {
   "cell_type": "code",
   "execution_count": 1,
   "metadata": {},
   "outputs": [],
   "source": [
    "\"\"\"\n",
    "First run tsne_encoder.py until the visualizations look good, and then set tsne_cache path to that experiment dir.\n",
    "\"\"\"\n",
    "\n",
    "\n",
    "import time\n",
    "import numpy as np\n",
    "import os\n",
    "import matplotlib\n",
    "import mlflow\n",
    "\n",
    "# matplotlib.use('Agg')\n",
    "import matplotlib.pyplot as plt\n",
    "import pandas as pd\n",
    "import seaborn as sns\n",
    "import argparse\n",
    "import os\n",
    "import _pickle\n",
    "import matplotlib.cm as cm\n",
    "import matplotlib.gridspec as gridspec\n",
    "import skimage.io as skio\n",
    "import skimage.transform as skts\n",
    "\n",
    "\n",
    "from matplotlib.colors import ListedColormap\n",
    "\n",
    "\n",
    "def retry(f):\n",
    "    while True:\n",
    "        try:\n",
    "            return f()\n",
    "        except:\n",
    "            time.sleep(1)\n",
    "            print(\"Retrying mlflow.\")\n",
    "\n",
    "\n",
    "def setup_mlflow():\n",
    "    os.environ[\"MLFLOW_TRACKING_USERNAME\"] = \"exp-01.mlflow-yang.ericst\"\n",
    "    os.environ[\"MLFLOW_TRACKING_PASSWORD\"] = \"parolaeric\"\n",
    "    remote_server_uri = \"https://exp-01.mlflow-yang.inf.ethz.ch\"\n",
    "    retry(lambda: mlflow.set_tracking_uri(remote_server_uri))\n",
    "\n",
    "\n",
    "def plot_tsne(exp_path, uc, ax, color_space=None, n_color_max=20, cat2color=None):\n",
    "    X_embedded = None\n",
    "    ALL_Y = None\n",
    "    Cat2Y = None\n",
    "    for (dirpath, dirnames, filenames) in os.walk(exp_path):\n",
    "        for filename in filenames:\n",
    "            if (\"embedded_UC%i\" % uc) in filename:\n",
    "                X_embedded = np.load(os.path.join(exp_path, filename))\n",
    "            elif (\"selectedY_UC%i\" % uc) in filename:\n",
    "                ALL_Y = np.load(os.path.join(exp_path, filename))\n",
    "            elif (\"cat2y_UC%i\" % uc) in filename:\n",
    "                with open(os.path.join(exp_path, filename), \"rb\") as fp:\n",
    "                    Cat2Y = _pickle.load(fp)\n",
    "    if any([X_embedded is None, ALL_Y is None, Cat2Y is None]):\n",
    "        raise FileNotFoundError(\"Missing some files from exp dir: %s\" % exp_path)\n",
    "    else:\n",
    "        Y2Cat = dict([(v, k) for k, v in Cat2Y.items()])\n",
    "        cat_labels = [Y2Cat[y] for y in ALL_Y]\n",
    "\n",
    "        if color_space is None:\n",
    "            assert cat2color is None\n",
    "            color_space = sns.color_palette(\"hls\", n_color_max)\n",
    "            cat2color = {}\n",
    "            i = 0\n",
    "            for y, cat in Y2Cat.items():\n",
    "                cat2color[cat] = color_space[i]\n",
    "                i += 1\n",
    "            this_color_list = [c for cat, c in cat2color.items()]\n",
    "            this_cmap = ListedColormap(this_color_list)\n",
    "        else:\n",
    "            assert cat2color is not None\n",
    "            n_used_colors = len(list(cat2color.values()))\n",
    "            this_color_list = []\n",
    "            for y, cat in Y2Cat.items():\n",
    "                if cat in cat2color.keys():\n",
    "                    this_color_list.append(cat2color[cat])\n",
    "                else:\n",
    "                    # new category\n",
    "                    this_color_list.append(color_space[n_used_colors])\n",
    "                    cat2color[cat] = color_space[n_used_colors]\n",
    "                    n_used_colors += 1\n",
    "            this_cmap = ListedColormap(this_color_list)\n",
    "\n",
    "        df = pd.DataFrame(\n",
    "            {\"x\": X_embedded[:, 0], \"y\": X_embedded[:, 1], \"Dataset\": cat_labels}\n",
    "        )\n",
    "        sns.scatterplot(\n",
    "            \"x\",\n",
    "            \"y\",\n",
    "            hue=\"Dataset\",\n",
    "            s=1.0,\n",
    "            data=df,\n",
    "            ax=ax,\n",
    "            linewidth=0,\n",
    "            palette=cat2color,\n",
    "        )\n",
    "        ax.set_axis_off()\n",
    "        ax.legend_.remove()\n",
    "        # ax.legend(loc='upper right')\n",
    "    return ax, color_space, cat2color\n",
    "\n",
    "\n",
    "def plot_image(file_path, ax, uc):\n",
    "    img = skio.imread(file_path)\n",
    "    long_edge = max(img.shape[0], img.shape[1])\n",
    "    img = skts.resize(img, (long_edge, long_edge))\n",
    "    if len(img.shape) > 2:\n",
    "        ax.imshow(img)\n",
    "    else:\n",
    "        ax.imshow(img, cmap=\"gray\")\n",
    "    ax.set_axis_off()\n",
    "    ax.annotate(\n",
    "        \"Usecase %d\" % uc,\n",
    "        xy=(0.0, 0.5),\n",
    "        xycoords=\"axes fraction\",\n",
    "        fontsize=5,\n",
    "        xytext=(-5, 12),\n",
    "        textcoords=\"offset points\",\n",
    "        ha=\"center\",\n",
    "        va=\"baseline\",\n",
    "        rotation=90,\n",
    "    )\n",
    "    # ax.set_ylabel(\"Usecase %d\" % uc)\n",
    "    return ax\n",
    "\n",
    "\n",
    "def load_reto(d1, uc, pretrained: bool = False):\n",
    "    if d1 == \"NIHCC\":\n",
    "        D_id = \"nih_id\"\n",
    "        D_ood = {\n",
    "            1: \"uc1_and_mura\",\n",
    "            2: \"pc_for_nih\",\n",
    "            3: \"nih_ood\",\n",
    "        }[uc]\n",
    "    elif d1 == \"PAD\":\n",
    "        D_id = \"pc_id\"\n",
    "        D_ood = {\n",
    "            1: \"uc1_and_mura\",\n",
    "            2: \"pc_uc2\",\n",
    "            3: \"pc_uc3\",\n",
    "        }[uc]\n",
    "    elif d1 == \"DRD\":\n",
    "        D_id = \"drd\"\n",
    "        D_ood = {\n",
    "            1: \"uc1_rgb\",\n",
    "            2: \"drimdb\",\n",
    "            3: \"riga\",\n",
    "        }[uc]\n",
    "    else:\n",
    "        assert False, f\"Unknown dataset: {d1}\"\n",
    "\n",
    "    exp_name = f\"{D_id}_vs_{D_ood}\"\n",
    "\n",
    "    exp = retry(lambda: mlflow.get_experiment_by_name(exp_name))\n",
    "    runs = retry(lambda: mlflow.list_run_infos(exp.experiment_id))\n",
    "\n",
    "    stats = {\n",
    "        \"auroc\": [],\n",
    "        \"aupr\": [],\n",
    "    }\n",
    "\n",
    "    for run_info in runs:\n",
    "        run = retry(lambda: mlflow.get_run(run_info.run_id))\n",
    "        if run.data.params.get(\"ensemble_type\") != \"assign_one_label\":\n",
    "            continue\n",
    "\n",
    "        if run.data.params.get(\"use_pretrained_model\") != str(pretrained):\n",
    "            continue\n",
    "\n",
    "        if run.data.params.get(\"model_arch\") != \"densenet\":\n",
    "            continue\n",
    "\n",
    "        if run.data.tags.get(\"goal\") != \"final\":\n",
    "            continue\n",
    "\n",
    "        metrics = run.data.metrics\n",
    "\n",
    "        for k, v in {\n",
    "            \"auroc\": metrics[\"heur_auroc_avg_diff\"],\n",
    "            \"aupr\": metrics[\"heur_aupr_avg_diff\"],\n",
    "        }.items():\n",
    "            stats[k].append(v)\n",
    "\n",
    "    for k, v in stats.items():\n",
    "        assert len(v) > 0, f\"Could not find any stats for {k}.\"\n",
    "\n",
    "    return {k: np.mean(v) for k, v in stats.items()}\n",
    "\n",
    "\n",
    "def get_results(\n",
    "    exp_path,\n",
    "    d1,\n",
    "    uc,\n",
    "):\n",
    "    csv_data = np.load(os.path.join(exp_path, \"data_UC%d_%s.npy\" % (uc, d1)))\n",
    "    assert os.path.isfile(os.path.join(exp_path, \"headers_UC%d_%s.pkl\" % (uc, d1)))\n",
    "    with open(os.path.join(exp_path, \"headers_UC%d_%s.pkl\" % (uc, d1)), \"rb\") as fp:\n",
    "        csv_headers = _pickle.load(fp)\n",
    "\n",
    "    csv_headers[0].append(\"RETO\")\n",
    "    csv_headers[0].append(\"RETO(pretrained)\")\n",
    "    method_handles = csv_headers[0]\n",
    "\n",
    "    weights = csv_data[0]\n",
    "    uc_roc = csv_data[2] * 100\n",
    "    uc_prc = csv_data[3] * 100\n",
    "\n",
    "    if len(uc_roc.shape) == 3:\n",
    "        rocm = np.average(uc_roc, axis=(1, 2), weights=weights)\n",
    "    else:\n",
    "        new_weights = np.zeros_like(uc_roc)\n",
    "        for i in range((uc_roc.shape[0])):\n",
    "            for j in range((uc_roc.shape[1])):\n",
    "                for k in range((uc_roc.shape[2])):\n",
    "                    n = int(weights[i, j, k, 0])\n",
    "                    for l in range(n):\n",
    "                        new_weights[i, j, k, l] = 1\n",
    "        rocm = np.average(uc_roc, axis=(1, 2, 3), weights=new_weights)\n",
    "\n",
    "    reto_data = load_reto(d1, uc, pretrained=False)\n",
    "\n",
    "    rocm = np.append(rocm, reto_data[\"auroc\"] * 100)\n",
    "\n",
    "    pretrained_reto_data = load_reto(d1, uc, pretrained=True)\n",
    "    rocm = np.append(rocm, pretrained_reto_data[\"auroc\"] * 100)\n",
    "\n",
    "    ret = {}\n",
    "    for i in range(len(method_handles)):\n",
    "        ret[method_handles[i]] = rocm[i]\n",
    "    return ret\n",
    "\n",
    "\n",
    "setup_mlflow()\n",
    "PREVIEW_DOUBLE = True\n",
    "\n",
    "acc_results = {}\n",
    "for d in [\"PAD\", \"NIHCC\", \"DRD\"]:\n",
    "    for uc in [1, 2, 3]:\n",
    "        exp_path = {\n",
    "            \"NIHCC\": \"nih_proced_res_mode1\",\n",
    "            \"PAD\": \"pad_proced_res_mode1\",\n",
    "            \"DRD\": \"drd_proced_res_mode1\",\n",
    "        }[d]\n",
    "        cur_results = get_results(exp_path, d, uc)\n",
    "\n",
    "        for m, a in cur_results.items():\n",
    "            l = acc_results.get(m, [])\n",
    "            l.append(a)\n",
    "            acc_results[m] = l\n",
    "\n",
    "results = {m: np.mean(l) for m, l in acc_results.items()}\n"
   ]
  },
  {
   "cell_type": "code",
   "execution_count": 10,
   "metadata": {},
   "outputs": [],
   "source": []
  },
  {
   "cell_type": "code",
   "execution_count": 11,
   "metadata": {},
   "outputs": [
    {
     "data": {
      "text/plain": [
       "[('12Layer-VAE-BCE', 83.45291996801282),\n",
       " ('binclass/0', 84.09117856414915),\n",
       " ('12Layer-AE-MSE', 84.74220671440462),\n",
       " ('RETO(pretrained)', 89.26175628621762),\n",
       " ('RETO', 91.04579221047366)]"
      ]
     },
     "execution_count": 11,
     "metadata": {},
     "output_type": "execute_result"
    }
   ],
   "source": []
  },
  {
   "cell_type": "code",
   "execution_count": 12,
   "metadata": {},
   "outputs": [],
   "source": [
    "import plotly.express as px\n",
    "import plotly.graph_objects as go"
   ]
  },
  {
   "cell_type": "code",
   "execution_count": 86,
   "metadata": {},
   "outputs": [],
   "source": [
    "alias = {\n",
    "    \"prob_threshold/0\": \"Prob. threshold\",\n",
    "    \"score_svm/0\": \"Score SVM\",\n",
    "    \"binclass/0\": \"Binary classifier\",\n",
    "    \"odin/0\": \"ODIN\",\n",
    "    \"Maha\": \"Mahalanobis\",\n",
    "    \"Maha1layer\": \"Single layer Maha.\",\n",
    "    \"svknn\": \"Feature knn\",\n",
    "    \"12Layer-AE-BCE\": \"Reconst. AEBCE\",\n",
    "    \"12Layer-AE-MSE\": \"AE Reconst. MSE\",\n",
    "    \"12Layer-VAE-MSE\": \"Reconst. VAEMSE\",\n",
    "    \"12Layer-VAE-BCE\": \"VAE Reconst. BCE\",\n",
    "    \"ALI_reconst/0\": \"Reconst. ALI\",\n",
    "    \"knn/1\": \"KNN-1\",\n",
    "    \"knn/8\": \"kNN\",\n",
    "    \"bceaeknn/8\": \"AEBCE-KNN-8\",\n",
    "    \"vaebceaeknn/8\": \"VAEBCE-KNN-8\",\n",
    "    \"mseaeknn/8\": \"AEMSE-KNN-8\",\n",
    "    \"vaemseaeknn/8\": \"VAEMSE-KNN-8\",\n",
    "    \"bceaeknn/1\": \"AEBCE-KNN-1\",\n",
    "    \"vaebceaeknn/1\": \"VAEBCE-KNN-1\",\n",
    "    \"mseaeknn/1\": \"AEMSE-KNN-1\",\n",
    "    \"vaemseaeknn/1\": \"VAEMSE-KNN-1\",\n",
    "    \"RETO\": \"RETO (rand init)\",\n",
    "    \"RETO(pretrained)\": \"RETO (pretrained)\",\n",
    "}"
   ]
  },
  {
   "cell_type": "code",
   "execution_count": 87,
   "metadata": {},
   "outputs": [
    {
     "data": {
      "text/plain": [
       "[('Maha', 80.39585112944047),\n",
       " ('knn/8', 82.43727142189137),\n",
       " ('12Layer-VAE-BCE', 83.45291996801282),\n",
       " ('12Layer-AE-MSE', 84.74220671440462),\n",
       " ('RETO(pretrained)', 89.26175628621762),\n",
       " ('RETO', 91.04579221047366)]"
      ]
     },
     "execution_count": 87,
     "metadata": {},
     "output_type": "execute_result"
    }
   ],
   "source": [
    "top = []\n",
    "for m in [\n",
    "    'RETO',\n",
    "    'RETO(pretrained)',\n",
    "    'Maha',\n",
    "    'knn/8',\n",
    "    '12Layer-AE-MSE',\n",
    "    '12Layer-VAE-BCE',\n",
    "]:\n",
    "    top.append((m, results[m]))\n",
    "    \n",
    "top = sorted(top, key=lambda x: x[1])\n",
    "top"
   ]
  },
  {
   "cell_type": "code",
   "execution_count": null,
   "metadata": {},
   "outputs": [],
   "source": []
  },
  {
   "cell_type": "code",
   "execution_count": 100,
   "metadata": {},
   "outputs": [
    {
     "data": {
      "application/vnd.plotly.v1+json": {
       "config": {
        "plotlyServerURL": "https://plot.ly"
       },
       "data": [
        {
         "base": 0.75,
         "marker": {
          "color": "#003f5c"
         },
         "name": "Mahalanobis",
         "type": "bar",
         "x": [
          ""
         ],
         "y": [
          0.053958511294404765
         ]
        },
        {
         "base": 0.75,
         "marker": {
          "color": "#444e86"
         },
         "name": "kNN",
         "type": "bar",
         "x": [
          ""
         ],
         "y": [
          0.07437271421891367
         ]
        },
        {
         "base": 0.75,
         "marker": {
          "color": "#955196"
         },
         "name": "VAE Reconst. BCE",
         "type": "bar",
         "x": [
          ""
         ],
         "y": [
          0.08452919968012818
         ]
        },
        {
         "base": 0.75,
         "marker": {
          "color": "#dd5182"
         },
         "name": "AE Reconst. MSE",
         "type": "bar",
         "x": [
          ""
         ],
         "y": [
          0.09742206714404622
         ]
        },
        {
         "base": 0.75,
         "marker": {
          "color": "#ff6e54"
         },
         "name": "RETO (pretrained)",
         "type": "bar",
         "x": [
          ""
         ],
         "y": [
          0.1426175628621762
         ]
        },
        {
         "base": 0.75,
         "marker": {
          "color": "#ffa600"
         },
         "name": "RETO (rand init)",
         "type": "bar",
         "x": [
          ""
         ],
         "y": [
          0.16045792210473664
         ]
        }
       ],
       "layout": {
        "autosize": true,
        "font": {
         "size": 25
        },
        "legend": {
         "x": 0.01,
         "xanchor": "left",
         "y": 0.99,
         "yanchor": "top"
        },
        "margin": {
         "b": 0,
         "l": 0,
         "pad": 10,
         "r": 0,
         "t": 0
        },
        "plot_bgcolor": "rgba(0, 0, 0, 0)",
        "template": {
         "data": {
          "bar": [
           {
            "error_x": {
             "color": "#2a3f5f"
            },
            "error_y": {
             "color": "#2a3f5f"
            },
            "marker": {
             "line": {
              "color": "#E5ECF6",
              "width": 0.5
             }
            },
            "type": "bar"
           }
          ],
          "barpolar": [
           {
            "marker": {
             "line": {
              "color": "#E5ECF6",
              "width": 0.5
             }
            },
            "type": "barpolar"
           }
          ],
          "carpet": [
           {
            "aaxis": {
             "endlinecolor": "#2a3f5f",
             "gridcolor": "white",
             "linecolor": "white",
             "minorgridcolor": "white",
             "startlinecolor": "#2a3f5f"
            },
            "baxis": {
             "endlinecolor": "#2a3f5f",
             "gridcolor": "white",
             "linecolor": "white",
             "minorgridcolor": "white",
             "startlinecolor": "#2a3f5f"
            },
            "type": "carpet"
           }
          ],
          "choropleth": [
           {
            "colorbar": {
             "outlinewidth": 0,
             "ticks": ""
            },
            "type": "choropleth"
           }
          ],
          "contour": [
           {
            "colorbar": {
             "outlinewidth": 0,
             "ticks": ""
            },
            "colorscale": [
             [
              0,
              "#0d0887"
             ],
             [
              0.1111111111111111,
              "#46039f"
             ],
             [
              0.2222222222222222,
              "#7201a8"
             ],
             [
              0.3333333333333333,
              "#9c179e"
             ],
             [
              0.4444444444444444,
              "#bd3786"
             ],
             [
              0.5555555555555556,
              "#d8576b"
             ],
             [
              0.6666666666666666,
              "#ed7953"
             ],
             [
              0.7777777777777778,
              "#fb9f3a"
             ],
             [
              0.8888888888888888,
              "#fdca26"
             ],
             [
              1,
              "#f0f921"
             ]
            ],
            "type": "contour"
           }
          ],
          "contourcarpet": [
           {
            "colorbar": {
             "outlinewidth": 0,
             "ticks": ""
            },
            "type": "contourcarpet"
           }
          ],
          "heatmap": [
           {
            "colorbar": {
             "outlinewidth": 0,
             "ticks": ""
            },
            "colorscale": [
             [
              0,
              "#0d0887"
             ],
             [
              0.1111111111111111,
              "#46039f"
             ],
             [
              0.2222222222222222,
              "#7201a8"
             ],
             [
              0.3333333333333333,
              "#9c179e"
             ],
             [
              0.4444444444444444,
              "#bd3786"
             ],
             [
              0.5555555555555556,
              "#d8576b"
             ],
             [
              0.6666666666666666,
              "#ed7953"
             ],
             [
              0.7777777777777778,
              "#fb9f3a"
             ],
             [
              0.8888888888888888,
              "#fdca26"
             ],
             [
              1,
              "#f0f921"
             ]
            ],
            "type": "heatmap"
           }
          ],
          "heatmapgl": [
           {
            "colorbar": {
             "outlinewidth": 0,
             "ticks": ""
            },
            "colorscale": [
             [
              0,
              "#0d0887"
             ],
             [
              0.1111111111111111,
              "#46039f"
             ],
             [
              0.2222222222222222,
              "#7201a8"
             ],
             [
              0.3333333333333333,
              "#9c179e"
             ],
             [
              0.4444444444444444,
              "#bd3786"
             ],
             [
              0.5555555555555556,
              "#d8576b"
             ],
             [
              0.6666666666666666,
              "#ed7953"
             ],
             [
              0.7777777777777778,
              "#fb9f3a"
             ],
             [
              0.8888888888888888,
              "#fdca26"
             ],
             [
              1,
              "#f0f921"
             ]
            ],
            "type": "heatmapgl"
           }
          ],
          "histogram": [
           {
            "marker": {
             "colorbar": {
              "outlinewidth": 0,
              "ticks": ""
             }
            },
            "type": "histogram"
           }
          ],
          "histogram2d": [
           {
            "colorbar": {
             "outlinewidth": 0,
             "ticks": ""
            },
            "colorscale": [
             [
              0,
              "#0d0887"
             ],
             [
              0.1111111111111111,
              "#46039f"
             ],
             [
              0.2222222222222222,
              "#7201a8"
             ],
             [
              0.3333333333333333,
              "#9c179e"
             ],
             [
              0.4444444444444444,
              "#bd3786"
             ],
             [
              0.5555555555555556,
              "#d8576b"
             ],
             [
              0.6666666666666666,
              "#ed7953"
             ],
             [
              0.7777777777777778,
              "#fb9f3a"
             ],
             [
              0.8888888888888888,
              "#fdca26"
             ],
             [
              1,
              "#f0f921"
             ]
            ],
            "type": "histogram2d"
           }
          ],
          "histogram2dcontour": [
           {
            "colorbar": {
             "outlinewidth": 0,
             "ticks": ""
            },
            "colorscale": [
             [
              0,
              "#0d0887"
             ],
             [
              0.1111111111111111,
              "#46039f"
             ],
             [
              0.2222222222222222,
              "#7201a8"
             ],
             [
              0.3333333333333333,
              "#9c179e"
             ],
             [
              0.4444444444444444,
              "#bd3786"
             ],
             [
              0.5555555555555556,
              "#d8576b"
             ],
             [
              0.6666666666666666,
              "#ed7953"
             ],
             [
              0.7777777777777778,
              "#fb9f3a"
             ],
             [
              0.8888888888888888,
              "#fdca26"
             ],
             [
              1,
              "#f0f921"
             ]
            ],
            "type": "histogram2dcontour"
           }
          ],
          "mesh3d": [
           {
            "colorbar": {
             "outlinewidth": 0,
             "ticks": ""
            },
            "type": "mesh3d"
           }
          ],
          "parcoords": [
           {
            "line": {
             "colorbar": {
              "outlinewidth": 0,
              "ticks": ""
             }
            },
            "type": "parcoords"
           }
          ],
          "pie": [
           {
            "automargin": true,
            "type": "pie"
           }
          ],
          "scatter": [
           {
            "marker": {
             "colorbar": {
              "outlinewidth": 0,
              "ticks": ""
             }
            },
            "type": "scatter"
           }
          ],
          "scatter3d": [
           {
            "line": {
             "colorbar": {
              "outlinewidth": 0,
              "ticks": ""
             }
            },
            "marker": {
             "colorbar": {
              "outlinewidth": 0,
              "ticks": ""
             }
            },
            "type": "scatter3d"
           }
          ],
          "scattercarpet": [
           {
            "marker": {
             "colorbar": {
              "outlinewidth": 0,
              "ticks": ""
             }
            },
            "type": "scattercarpet"
           }
          ],
          "scattergeo": [
           {
            "marker": {
             "colorbar": {
              "outlinewidth": 0,
              "ticks": ""
             }
            },
            "type": "scattergeo"
           }
          ],
          "scattergl": [
           {
            "marker": {
             "colorbar": {
              "outlinewidth": 0,
              "ticks": ""
             }
            },
            "type": "scattergl"
           }
          ],
          "scattermapbox": [
           {
            "marker": {
             "colorbar": {
              "outlinewidth": 0,
              "ticks": ""
             }
            },
            "type": "scattermapbox"
           }
          ],
          "scatterpolar": [
           {
            "marker": {
             "colorbar": {
              "outlinewidth": 0,
              "ticks": ""
             }
            },
            "type": "scatterpolar"
           }
          ],
          "scatterpolargl": [
           {
            "marker": {
             "colorbar": {
              "outlinewidth": 0,
              "ticks": ""
             }
            },
            "type": "scatterpolargl"
           }
          ],
          "scatterternary": [
           {
            "marker": {
             "colorbar": {
              "outlinewidth": 0,
              "ticks": ""
             }
            },
            "type": "scatterternary"
           }
          ],
          "surface": [
           {
            "colorbar": {
             "outlinewidth": 0,
             "ticks": ""
            },
            "colorscale": [
             [
              0,
              "#0d0887"
             ],
             [
              0.1111111111111111,
              "#46039f"
             ],
             [
              0.2222222222222222,
              "#7201a8"
             ],
             [
              0.3333333333333333,
              "#9c179e"
             ],
             [
              0.4444444444444444,
              "#bd3786"
             ],
             [
              0.5555555555555556,
              "#d8576b"
             ],
             [
              0.6666666666666666,
              "#ed7953"
             ],
             [
              0.7777777777777778,
              "#fb9f3a"
             ],
             [
              0.8888888888888888,
              "#fdca26"
             ],
             [
              1,
              "#f0f921"
             ]
            ],
            "type": "surface"
           }
          ],
          "table": [
           {
            "cells": {
             "fill": {
              "color": "#EBF0F8"
             },
             "line": {
              "color": "white"
             }
            },
            "header": {
             "fill": {
              "color": "#C8D4E3"
             },
             "line": {
              "color": "white"
             }
            },
            "type": "table"
           }
          ]
         },
         "layout": {
          "annotationdefaults": {
           "arrowcolor": "#2a3f5f",
           "arrowhead": 0,
           "arrowwidth": 1
          },
          "coloraxis": {
           "colorbar": {
            "outlinewidth": 0,
            "ticks": ""
           }
          },
          "colorscale": {
           "diverging": [
            [
             0,
             "#8e0152"
            ],
            [
             0.1,
             "#c51b7d"
            ],
            [
             0.2,
             "#de77ae"
            ],
            [
             0.3,
             "#f1b6da"
            ],
            [
             0.4,
             "#fde0ef"
            ],
            [
             0.5,
             "#f7f7f7"
            ],
            [
             0.6,
             "#e6f5d0"
            ],
            [
             0.7,
             "#b8e186"
            ],
            [
             0.8,
             "#7fbc41"
            ],
            [
             0.9,
             "#4d9221"
            ],
            [
             1,
             "#276419"
            ]
           ],
           "sequential": [
            [
             0,
             "#0d0887"
            ],
            [
             0.1111111111111111,
             "#46039f"
            ],
            [
             0.2222222222222222,
             "#7201a8"
            ],
            [
             0.3333333333333333,
             "#9c179e"
            ],
            [
             0.4444444444444444,
             "#bd3786"
            ],
            [
             0.5555555555555556,
             "#d8576b"
            ],
            [
             0.6666666666666666,
             "#ed7953"
            ],
            [
             0.7777777777777778,
             "#fb9f3a"
            ],
            [
             0.8888888888888888,
             "#fdca26"
            ],
            [
             1,
             "#f0f921"
            ]
           ],
           "sequentialminus": [
            [
             0,
             "#0d0887"
            ],
            [
             0.1111111111111111,
             "#46039f"
            ],
            [
             0.2222222222222222,
             "#7201a8"
            ],
            [
             0.3333333333333333,
             "#9c179e"
            ],
            [
             0.4444444444444444,
             "#bd3786"
            ],
            [
             0.5555555555555556,
             "#d8576b"
            ],
            [
             0.6666666666666666,
             "#ed7953"
            ],
            [
             0.7777777777777778,
             "#fb9f3a"
            ],
            [
             0.8888888888888888,
             "#fdca26"
            ],
            [
             1,
             "#f0f921"
            ]
           ]
          },
          "colorway": [
           "#636efa",
           "#EF553B",
           "#00cc96",
           "#ab63fa",
           "#FFA15A",
           "#19d3f3",
           "#FF6692",
           "#B6E880",
           "#FF97FF",
           "#FECB52"
          ],
          "font": {
           "color": "#2a3f5f"
          },
          "geo": {
           "bgcolor": "white",
           "lakecolor": "white",
           "landcolor": "#E5ECF6",
           "showlakes": true,
           "showland": true,
           "subunitcolor": "white"
          },
          "hoverlabel": {
           "align": "left"
          },
          "hovermode": "closest",
          "mapbox": {
           "style": "light"
          },
          "paper_bgcolor": "white",
          "plot_bgcolor": "#E5ECF6",
          "polar": {
           "angularaxis": {
            "gridcolor": "white",
            "linecolor": "white",
            "ticks": ""
           },
           "bgcolor": "#E5ECF6",
           "radialaxis": {
            "gridcolor": "white",
            "linecolor": "white",
            "ticks": ""
           }
          },
          "scene": {
           "xaxis": {
            "backgroundcolor": "#E5ECF6",
            "gridcolor": "white",
            "gridwidth": 2,
            "linecolor": "white",
            "showbackground": true,
            "ticks": "",
            "zerolinecolor": "white"
           },
           "yaxis": {
            "backgroundcolor": "#E5ECF6",
            "gridcolor": "white",
            "gridwidth": 2,
            "linecolor": "white",
            "showbackground": true,
            "ticks": "",
            "zerolinecolor": "white"
           },
           "zaxis": {
            "backgroundcolor": "#E5ECF6",
            "gridcolor": "white",
            "gridwidth": 2,
            "linecolor": "white",
            "showbackground": true,
            "ticks": "",
            "zerolinecolor": "white"
           }
          },
          "shapedefaults": {
           "line": {
            "color": "#2a3f5f"
           }
          },
          "ternary": {
           "aaxis": {
            "gridcolor": "white",
            "linecolor": "white",
            "ticks": ""
           },
           "baxis": {
            "gridcolor": "white",
            "linecolor": "white",
            "ticks": ""
           },
           "bgcolor": "#E5ECF6",
           "caxis": {
            "gridcolor": "white",
            "linecolor": "white",
            "ticks": ""
           }
          },
          "title": {
           "x": 0.05
          },
          "xaxis": {
           "automargin": true,
           "gridcolor": "white",
           "linecolor": "white",
           "ticks": "",
           "title": {
            "standoff": 15
           },
           "zerolinecolor": "white",
           "zerolinewidth": 2
          },
          "yaxis": {
           "automargin": true,
           "gridcolor": "white",
           "linecolor": "white",
           "ticks": "",
           "title": {
            "standoff": 15
           },
           "zerolinecolor": "white",
           "zerolinewidth": 2
          }
         }
        },
        "xaxis": {
         "range": [
          -0.4,
          0.4
         ],
         "type": "category"
        },
        "yaxis": {
         "dtick": 0.05,
         "gridcolor": "darkgray",
         "gridwidth": 3,
         "range": [
          0.75,
          0.94
         ],
         "showgrid": true,
         "tick0": 0.75,
         "tickmode": "linear",
         "title": {
          "text": "AUROC"
         },
         "type": "linear"
        }
       }
      },
      "image/png": "[encoded data removed]",
      "text/html": [
       "<div>                            <div id=\"5a0f0ca6-98cd-48ca-823a-43334514ce11\" class=\"plotly-graph-div\" style=\"height:525px; width:100%;\"></div>            <script type=\"text/javascript\">                require([\"plotly\"], function(Plotly) {                    window.PLOTLYENV=window.PLOTLYENV || {};                                    if (document.getElementById(\"5a0f0ca6-98cd-48ca-823a-43334514ce11\")) {                    Plotly.newPlot(                        \"5a0f0ca6-98cd-48ca-823a-43334514ce11\",                        [{\"base\": 0.75, \"marker\": {\"color\": \"#003f5c\"}, \"name\": \"Mahalanobis\", \"type\": \"bar\", \"x\": [\"\"], \"y\": [0.053958511294404765]}, {\"base\": 0.75, \"marker\": {\"color\": \"#444e86\"}, \"name\": \"kNN\", \"type\": \"bar\", \"x\": [\"\"], \"y\": [0.07437271421891367]}, {\"base\": 0.75, \"marker\": {\"color\": \"#955196\"}, \"name\": \"VAE Reconst. BCE\", \"type\": \"bar\", \"x\": [\"\"], \"y\": [0.08452919968012818]}, {\"base\": 0.75, \"marker\": {\"color\": \"#dd5182\"}, \"name\": \"AE Reconst. MSE\", \"type\": \"bar\", \"x\": [\"\"], \"y\": [0.09742206714404622]}, {\"base\": 0.75, \"marker\": {\"color\": \"#ff6e54\"}, \"name\": \"RETO (pretrained)\", \"type\": \"bar\", \"x\": [\"\"], \"y\": [0.1426175628621762]}, {\"base\": 0.75, \"marker\": {\"color\": \"#ffa600\"}, \"name\": \"RETO (rand init)\", \"type\": \"bar\", \"x\": [\"\"], \"y\": [0.16045792210473664]}],                        {\"font\": {\"size\": 25}, \"legend\": {\"x\": 0.01, \"xanchor\": \"left\", \"y\": 0.99, \"yanchor\": \"top\"}, \"margin\": {\"b\": 0, \"l\": 0, \"pad\": 10, \"r\": 0, \"t\": 0}, \"plot_bgcolor\": \"rgba(0,0,0,0)\", \"template\": {\"data\": {\"bar\": [{\"error_x\": {\"color\": \"#2a3f5f\"}, \"error_y\": {\"color\": \"#2a3f5f\"}, \"marker\": {\"line\": {\"color\": \"#E5ECF6\", \"width\": 0.5}}, \"type\": \"bar\"}], \"barpolar\": [{\"marker\": {\"line\": {\"color\": \"#E5ECF6\", \"width\": 0.5}}, \"type\": \"barpolar\"}], \"carpet\": [{\"aaxis\": {\"endlinecolor\": \"#2a3f5f\", \"gridcolor\": \"white\", \"linecolor\": \"white\", \"minorgridcolor\": \"white\", \"startlinecolor\": \"#2a3f5f\"}, \"baxis\": {\"endlinecolor\": \"#2a3f5f\", \"gridcolor\": \"white\", \"linecolor\": \"white\", \"minorgridcolor\": \"white\", \"startlinecolor\": \"#2a3f5f\"}, \"type\": \"carpet\"}], \"choropleth\": [{\"colorbar\": {\"outlinewidth\": 0, \"ticks\": \"\"}, \"type\": \"choropleth\"}], \"contour\": [{\"colorbar\": {\"outlinewidth\": 0, \"ticks\": \"\"}, \"colorscale\": [[0.0, \"#0d0887\"], [0.1111111111111111, \"#46039f\"], [0.2222222222222222, \"#7201a8\"], [0.3333333333333333, \"#9c179e\"], [0.4444444444444444, \"#bd3786\"], [0.5555555555555556, \"#d8576b\"], [0.6666666666666666, \"#ed7953\"], [0.7777777777777778, \"#fb9f3a\"], [0.8888888888888888, \"#fdca26\"], [1.0, \"#f0f921\"]], \"type\": \"contour\"}], \"contourcarpet\": [{\"colorbar\": {\"outlinewidth\": 0, \"ticks\": \"\"}, \"type\": \"contourcarpet\"}], \"heatmap\": [{\"colorbar\": {\"outlinewidth\": 0, \"ticks\": \"\"}, \"colorscale\": [[0.0, \"#0d0887\"], [0.1111111111111111, \"#46039f\"], [0.2222222222222222, \"#7201a8\"], [0.3333333333333333, \"#9c179e\"], [0.4444444444444444, \"#bd3786\"], [0.5555555555555556, \"#d8576b\"], [0.6666666666666666, \"#ed7953\"], [0.7777777777777778, \"#fb9f3a\"], [0.8888888888888888, \"#fdca26\"], [1.0, \"#f0f921\"]], \"type\": \"heatmap\"}], \"heatmapgl\": [{\"colorbar\": {\"outlinewidth\": 0, \"ticks\": \"\"}, \"colorscale\": [[0.0, \"#0d0887\"], [0.1111111111111111, \"#46039f\"], [0.2222222222222222, \"#7201a8\"], [0.3333333333333333, \"#9c179e\"], [0.4444444444444444, \"#bd3786\"], [0.5555555555555556, \"#d8576b\"], [0.6666666666666666, \"#ed7953\"], [0.7777777777777778, \"#fb9f3a\"], [0.8888888888888888, \"#fdca26\"], [1.0, \"#f0f921\"]], \"type\": \"heatmapgl\"}], \"histogram\": [{\"marker\": {\"colorbar\": {\"outlinewidth\": 0, \"ticks\": \"\"}}, \"type\": \"histogram\"}], \"histogram2d\": [{\"colorbar\": {\"outlinewidth\": 0, \"ticks\": \"\"}, \"colorscale\": [[0.0, \"#0d0887\"], [0.1111111111111111, \"#46039f\"], [0.2222222222222222, \"#7201a8\"], [0.3333333333333333, \"#9c179e\"], [0.4444444444444444, \"#bd3786\"], [0.5555555555555556, \"#d8576b\"], [0.6666666666666666, \"#ed7953\"], [0.7777777777777778, \"#fb9f3a\"], [0.8888888888888888, \"#fdca26\"], [1.0, \"#f0f921\"]], \"type\": \"histogram2d\"}], \"histogram2dcontour\": [{\"colorbar\": {\"outlinewidth\": 0, \"ticks\": \"\"}, \"colorscale\": [[0.0, \"#0d0887\"], [0.1111111111111111, \"#46039f\"], [0.2222222222222222, \"#7201a8\"], [0.3333333333333333, \"#9c179e\"], [0.4444444444444444, \"#bd3786\"], [0.5555555555555556, \"#d8576b\"], [0.6666666666666666, \"#ed7953\"], [0.7777777777777778, \"#fb9f3a\"], [0.8888888888888888, \"#fdca26\"], [1.0, \"#f0f921\"]], \"type\": \"histogram2dcontour\"}], \"mesh3d\": [{\"colorbar\": {\"outlinewidth\": 0, \"ticks\": \"\"}, \"type\": \"mesh3d\"}], \"parcoords\": [{\"line\": {\"colorbar\": {\"outlinewidth\": 0, \"ticks\": \"\"}}, \"type\": \"parcoords\"}], \"pie\": [{\"automargin\": true, \"type\": \"pie\"}], \"scatter\": [{\"marker\": {\"colorbar\": {\"outlinewidth\": 0, \"ticks\": \"\"}}, \"type\": \"scatter\"}], \"scatter3d\": [{\"line\": {\"colorbar\": {\"outlinewidth\": 0, \"ticks\": \"\"}}, \"marker\": {\"colorbar\": {\"outlinewidth\": 0, \"ticks\": \"\"}}, \"type\": \"scatter3d\"}], \"scattercarpet\": [{\"marker\": {\"colorbar\": {\"outlinewidth\": 0, \"ticks\": \"\"}}, \"type\": \"scattercarpet\"}], \"scattergeo\": [{\"marker\": {\"colorbar\": {\"outlinewidth\": 0, \"ticks\": \"\"}}, \"type\": \"scattergeo\"}], \"scattergl\": [{\"marker\": {\"colorbar\": {\"outlinewidth\": 0, \"ticks\": \"\"}}, \"type\": \"scattergl\"}], \"scattermapbox\": [{\"marker\": {\"colorbar\": {\"outlinewidth\": 0, \"ticks\": \"\"}}, \"type\": \"scattermapbox\"}], \"scatterpolar\": [{\"marker\": {\"colorbar\": {\"outlinewidth\": 0, \"ticks\": \"\"}}, \"type\": \"scatterpolar\"}], \"scatterpolargl\": [{\"marker\": {\"colorbar\": {\"outlinewidth\": 0, \"ticks\": \"\"}}, \"type\": \"scatterpolargl\"}], \"scatterternary\": [{\"marker\": {\"colorbar\": {\"outlinewidth\": 0, \"ticks\": \"\"}}, \"type\": \"scatterternary\"}], \"surface\": [{\"colorbar\": {\"outlinewidth\": 0, \"ticks\": \"\"}, \"colorscale\": [[0.0, \"#0d0887\"], [0.1111111111111111, \"#46039f\"], [0.2222222222222222, \"#7201a8\"], [0.3333333333333333, \"#9c179e\"], [0.4444444444444444, \"#bd3786\"], [0.5555555555555556, \"#d8576b\"], [0.6666666666666666, \"#ed7953\"], [0.7777777777777778, \"#fb9f3a\"], [0.8888888888888888, \"#fdca26\"], [1.0, \"#f0f921\"]], \"type\": \"surface\"}], \"table\": [{\"cells\": {\"fill\": {\"color\": \"#EBF0F8\"}, \"line\": {\"color\": \"white\"}}, \"header\": {\"fill\": {\"color\": \"#C8D4E3\"}, \"line\": {\"color\": \"white\"}}, \"type\": \"table\"}]}, \"layout\": {\"annotationdefaults\": {\"arrowcolor\": \"#2a3f5f\", \"arrowhead\": 0, \"arrowwidth\": 1}, \"coloraxis\": {\"colorbar\": {\"outlinewidth\": 0, \"ticks\": \"\"}}, \"colorscale\": {\"diverging\": [[0, \"#8e0152\"], [0.1, \"#c51b7d\"], [0.2, \"#de77ae\"], [0.3, \"#f1b6da\"], [0.4, \"#fde0ef\"], [0.5, \"#f7f7f7\"], [0.6, \"#e6f5d0\"], [0.7, \"#b8e186\"], [0.8, \"#7fbc41\"], [0.9, \"#4d9221\"], [1, \"#276419\"]], \"sequential\": [[0.0, \"#0d0887\"], [0.1111111111111111, \"#46039f\"], [0.2222222222222222, \"#7201a8\"], [0.3333333333333333, \"#9c179e\"], [0.4444444444444444, \"#bd3786\"], [0.5555555555555556, \"#d8576b\"], [0.6666666666666666, \"#ed7953\"], [0.7777777777777778, \"#fb9f3a\"], [0.8888888888888888, \"#fdca26\"], [1.0, \"#f0f921\"]], \"sequentialminus\": [[0.0, \"#0d0887\"], [0.1111111111111111, \"#46039f\"], [0.2222222222222222, \"#7201a8\"], [0.3333333333333333, \"#9c179e\"], [0.4444444444444444, \"#bd3786\"], [0.5555555555555556, \"#d8576b\"], [0.6666666666666666, \"#ed7953\"], [0.7777777777777778, \"#fb9f3a\"], [0.8888888888888888, \"#fdca26\"], [1.0, \"#f0f921\"]]}, \"colorway\": [\"#636efa\", \"#EF553B\", \"#00cc96\", \"#ab63fa\", \"#FFA15A\", \"#19d3f3\", \"#FF6692\", \"#B6E880\", \"#FF97FF\", \"#FECB52\"], \"font\": {\"color\": \"#2a3f5f\"}, \"geo\": {\"bgcolor\": \"white\", \"lakecolor\": \"white\", \"landcolor\": \"#E5ECF6\", \"showlakes\": true, \"showland\": true, \"subunitcolor\": \"white\"}, \"hoverlabel\": {\"align\": \"left\"}, \"hovermode\": \"closest\", \"mapbox\": {\"style\": \"light\"}, \"paper_bgcolor\": \"white\", \"plot_bgcolor\": \"#E5ECF6\", \"polar\": {\"angularaxis\": {\"gridcolor\": \"white\", \"linecolor\": \"white\", \"ticks\": \"\"}, \"bgcolor\": \"#E5ECF6\", \"radialaxis\": {\"gridcolor\": \"white\", \"linecolor\": \"white\", \"ticks\": \"\"}}, \"scene\": {\"xaxis\": {\"backgroundcolor\": \"#E5ECF6\", \"gridcolor\": \"white\", \"gridwidth\": 2, \"linecolor\": \"white\", \"showbackground\": true, \"ticks\": \"\", \"zerolinecolor\": \"white\"}, \"yaxis\": {\"backgroundcolor\": \"#E5ECF6\", \"gridcolor\": \"white\", \"gridwidth\": 2, \"linecolor\": \"white\", \"showbackground\": true, \"ticks\": \"\", \"zerolinecolor\": \"white\"}, \"zaxis\": {\"backgroundcolor\": \"#E5ECF6\", \"gridcolor\": \"white\", \"gridwidth\": 2, \"linecolor\": \"white\", \"showbackground\": true, \"ticks\": \"\", \"zerolinecolor\": \"white\"}}, \"shapedefaults\": {\"line\": {\"color\": \"#2a3f5f\"}}, \"ternary\": {\"aaxis\": {\"gridcolor\": \"white\", \"linecolor\": \"white\", \"ticks\": \"\"}, \"baxis\": {\"gridcolor\": \"white\", \"linecolor\": \"white\", \"ticks\": \"\"}, \"bgcolor\": \"#E5ECF6\", \"caxis\": {\"gridcolor\": \"white\", \"linecolor\": \"white\", \"ticks\": \"\"}}, \"title\": {\"x\": 0.05}, \"xaxis\": {\"automargin\": true, \"gridcolor\": \"white\", \"linecolor\": \"white\", \"ticks\": \"\", \"title\": {\"standoff\": 15}, \"zerolinecolor\": \"white\", \"zerolinewidth\": 2}, \"yaxis\": {\"automargin\": true, \"gridcolor\": \"white\", \"linecolor\": \"white\", \"ticks\": \"\", \"title\": {\"standoff\": 15}, \"zerolinecolor\": \"white\", \"zerolinewidth\": 2}}}, \"xaxis\": {\"range\": [-0.4, 0.4]}, \"yaxis\": {\"dtick\": 0.05, \"gridcolor\": \"darkgray\", \"gridwidth\": 3, \"range\": [0.75, 0.94], \"showgrid\": true, \"tick0\": 0.75, \"tickmode\": \"linear\", \"title\": {\"text\": \"AUROC\"}}},                        {\"responsive\": true}                    ).then(function(){\n",
       "                            \n",
       "var gd = document.getElementById('5a0f0ca6-98cd-48ca-823a-43334514ce11');\n",
       "var x = new MutationObserver(function (mutations, observer) {{\n",
       "        var display = window.getComputedStyle(gd).display;\n",
       "        if (!display || display === 'none') {{\n",
       "            console.log([gd, 'removed!']);\n",
       "            Plotly.purge(gd);\n",
       "            observer.disconnect();\n",
       "        }}\n",
       "}});\n",
       "\n",
       "// Listen for the removal of the full notebook cells\n",
       "var notebookContainer = gd.closest('#notebook-container');\n",
       "if (notebookContainer) {{\n",
       "    x.observe(notebookContainer, {childList: true});\n",
       "}}\n",
       "\n",
       "// Listen for the clearing of the current output cell\n",
       "var outputEl = gd.closest('.output');\n",
       "if (outputEl) {{\n",
       "    x.observe(outputEl, {childList: true});\n",
       "}}\n",
       "\n",
       "                        })                };                });            </script>        </div>"
      ]
     },
     "metadata": {},
     "output_type": "display_data"
    }
   ],
   "source": [
    "colors = [\n",
    "    \"#003f5c\",\n",
    "    \"#444e86\",\n",
    "    \"#955196\",\n",
    "    \"#dd5182\",\n",
    "    \"#ff6e54\",\n",
    "    \"#ffa600\",\n",
    "]\n",
    "\n",
    "bars = []\n",
    "\n",
    "base = 0.75\n",
    "\n",
    "for im, (m, auroc) in enumerate(top):\n",
    "    nice_method_name = alias[m]\n",
    "    \n",
    "    bar = go.Bar(\n",
    "        name=nice_method_name,\n",
    "        x=[\"\"],\n",
    "        y=[auroc / 100 - base],\n",
    "        marker_color=colors[im],\n",
    "        base=base,\n",
    "    )\n",
    "    bars.append(bar)\n",
    "\n",
    "\n",
    "fig = go.Figure(data=bars)\n",
    "\n",
    "\n",
    "fig.update_layout(\n",
    "    margin=dict(\n",
    "        l=0, r=0, t=0, b=0,\n",
    "        pad=10\n",
    "    ),\n",
    "    yaxis = dict(\n",
    "        tickmode = 'linear',\n",
    "        tick0 = 0.75,\n",
    "        dtick = 0.05\n",
    "    ),\n",
    "    legend=dict(\n",
    "        yanchor=\"top\",\n",
    "        y=0.99,\n",
    "        xanchor=\"left\",\n",
    "        x=0.01\n",
    "    ),\n",
    "    #paper_bgcolor='rgba(0,0,0,0)',\n",
    "    plot_bgcolor='rgba(0,0,0,0)',\n",
    "    yaxis_showgrid=True,\n",
    "    yaxis_gridwidth=3,\n",
    "    yaxis_gridcolor=\"darkgray\",\n",
    "    font_size=25,\n",
    "    yaxis_title=\"AUROC\",\n",
    ")\n",
    "fig.update_xaxes(range=[-0.4, 0.4])\n",
    "\n",
    "fig.update_yaxes(range=[0.75, 0.94])\n",
    "\n",
    "\n",
    "fig.show()"
   ]
  },
  {
   "cell_type": "code",
   "execution_count": null,
   "metadata": {},
   "outputs": [],
   "source": [
    " "
   ]
  }
 ],
 "metadata": {
  "kernelspec": {
   "display_name": "Python 3",
   "language": "python",
   "name": "python3"
  },
  "language_info": {
   "codemirror_mode": {
    "name": "ipython",
    "version": 3
   },
   "file_extension": ".py",
   "mimetype": "text/x-python",
   "name": "python",
   "nbconvert_exporter": "python",
   "pygments_lexer": "ipython3",
   "version": "3.8.5"
  }
 },
 "nbformat": 4,
 "nbformat_minor": 4
}
